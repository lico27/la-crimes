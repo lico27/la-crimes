{
 "cells": [
  {
   "cell_type": "code",
   "execution_count": 1,
   "metadata": {},
   "outputs": [],
   "source": [
    "#import libraries\n",
    "import pandas as pd\n",
    "import numpy as np\n",
    "from sklearn.impute import KNNImputer\n",
    "from sklearn.preprocessing import LabelEncoder"
   ]
  },
  {
   "cell_type": "code",
   "execution_count": 2,
   "metadata": {},
   "outputs": [],
   "source": [
    "#get data from csv\n",
    "df = pd.read_csv(\"df_for_imputation.csv\", dtype={\"TIME OCC\": str})"
   ]
  },
  {
   "cell_type": "code",
   "execution_count": 3,
   "metadata": {},
   "outputs": [],
   "source": [
    "#get likely true number of crimes at noon\n",
    "noon_avg = int((df[df[\"hour\"] == 11].shape[0] + df[df[\"hour\"] == 13].shape[0]) / 2)\n",
    "\n",
    "#get length of data to drop\n",
    "all_noons = df[df[\"hour\"] == 12]\n",
    "drop_len = len(all_noons) - noon_avg\n",
    "\n",
    "#drop random noons\n",
    "np.random.seed(42)\n",
    "drop_noons = all_noons.sample(n=drop_len, random_state=42).index\n",
    "\n",
    "#replace noons with nans\n",
    "df[\"hour_less_12\"] = df[\"hour\"].copy()\n",
    "df.loc[drop_noons, \"hour_less_12\"] = np.nan"
   ]
  },
  {
   "cell_type": "code",
   "execution_count": 4,
   "metadata": {},
   "outputs": [],
   "source": [
    "#instantiate encoders for selected categorical features\n",
    "area_le = LabelEncoder()\n",
    "crime_le = LabelEncoder()\n",
    "day_le = LabelEncoder()\n",
    "\n",
    "#encode categorical features\n",
    "df[\"crime_encoded\"] = crime_le.fit_transform(df[\"crime_group\"])\n",
    "df[\"day_encoded\"] = day_le.fit_transform(df[\"day\"])\n",
    "df[\"area_encoded\"] = area_le.fit_transform(df[\"area\"])\n",
    "\n",
    "#get feature matrix\n",
    "imputer_features = df[[\"crime_encoded\", \"day_encoded\", \"area_encoded\"]].values\n",
    "\n",
    "#impute missing hours\n",
    "imputer = KNNImputer(n_neighbors=3)\n",
    "df[\"hour_imputed\"] = imputer.fit_transform(np.column_stack([imputer_features, df[\"hour_less_12\"].values]))[:, -1]\n",
    "df[\"hour_imputed\"] = np.round(df[\"hour_imputed\"]).astype(int)"
   ]
  },
  {
   "cell_type": "code",
   "execution_count": 5,
   "metadata": {},
   "outputs": [],
   "source": [
    "#drop and rename columns\n",
    "df = df.drop(columns=[\"hour\", \"hour_less_12\", \"crime_encoded\", \"day_encoded\", \"area_encoded\"]).rename(columns={\"hour_imputed\":\"hour\"})"
   ]
  },
  {
   "cell_type": "code",
   "execution_count": 9,
   "metadata": {},
   "outputs": [],
   "source": [
    "#export df to be used in notebook\n",
    "df.to_csv(\"df_after_imputation.csv\", index=False)"
   ]
  }
 ],
 "metadata": {
  "kernelspec": {
   "display_name": "ml-assign",
   "language": "python",
   "name": "python3"
  },
  "language_info": {
   "codemirror_mode": {
    "name": "ipython",
    "version": 3
   },
   "file_extension": ".py",
   "mimetype": "text/x-python",
   "name": "python",
   "nbconvert_exporter": "python",
   "pygments_lexer": "ipython3",
   "version": "3.10.18"
  }
 },
 "nbformat": 4,
 "nbformat_minor": 2
}
