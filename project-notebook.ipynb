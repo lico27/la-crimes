{
 "cells": [
  {
   "cell_type": "markdown",
   "metadata": {},
   "source": [
    "# Machine Learning and Predictive Analytics: Solving a Real World Problem with Machine Learning"
   ]
  },
  {
   "cell_type": "markdown",
   "metadata": {},
   "source": [
    "## Datasets: Los Angeles Crime Data 2010-19 and 2020-25\n",
    "2010-19 dataset: https://catalog.data.gov/dataset/crime-data-from-2010-to-2019      \n",
    "2020-25 dataset (accessed up to 25/05/2025): https://catalog.data.gov/dataset/crime-data-from-2020-to-present\n",
    "\n",
    "## Research Question: How can we protect children from being victims of crime in Los Angeles?\n",
    "\n",
    "The model will predict the risk level of a child becoming a victim of crime, based on demographic factors (such as age, sex, and descent) in combination with spatial and temporal variables (such as location, time of day, and day of the week).\n",
    "\n",
    "Real-world interventions can be based on the predictions of the model. For example, if the model predicts that there is a high risk level for Black children being victimised in Central LA during weekday evenings, a local youth centre could implement targeted outreach programmes during those hours — offering safe spaces, support services, or structured activities.\n",
    "\n",
    "## Methodology Plan\n",
    "\n",
    "- Combine and clean two datasets\n",
    "    - ~~Rename columns for clarity~~\n",
    "    - Rename/group low frequency values in `vict_sex` and `vict_descent`\n",
    "    - Convert messy dates and times\n",
    "    - Categorise children as those under 18 and over 0 (vict_age contains many 0s, possibly as crimes without known/human victims e.g. vandalism)\n",
    "- Decide on which features to include\n",
    "- Where are children most likely to be victims of crime?\n",
    "    - Split `location` into longitude and latitude\n",
    "- When are children most likely to be victims of crime? - time of year, day of week, hour of day\n",
    "    - Issue with logging of dates - crimes disproportionately logged on 1st Jan or first of month - can use day of week as a proxy\n",
    "    - Look at metadata to understand times - is there enough accuracy to use this variable?\n",
    "- How are demographics associated with crime and is this a useful factor to include?\n",
    "- Make heatmap \n",
    "- One-hot encode categorical variables\n",
    "- Split data into training and test sets\n",
    "- Group crime types to reduce dimensionality\n",
    "\n",
    "**Problems with temporal variables:**\n",
    "- Dates are likely to contain inaccuracies - crimes being logged on 1st Jan or first of month\n",
    "- Times are stored as text but military times can start with 0s so there are errors\n",
    "    - Cleaning is possible to a certain extent but would require assumptions (e.g. is '4' supposed to be 4am, 4pm, or a typo?)\n",
    "- Times may be inaccurate if officers wait until their shift ends to log crimes (may explain peaks around midday, 6pm etc)\n",
    "- Temporal data is not stored as datetime\n"
   ]
  },
  {
   "cell_type": "markdown",
   "metadata": {},
   "source": [
    "## Setup and Pre-processing"
   ]
  },
  {
   "cell_type": "code",
   "execution_count": 8,
   "metadata": {},
   "outputs": [],
   "source": [
    "#import libraries\n",
    "import pandas as pd\n",
    "import numpy as np\n",
    "import janitor "
   ]
  },
  {
   "cell_type": "code",
   "execution_count": 9,
   "metadata": {},
   "outputs": [],
   "source": [
    "#get 2010-19 data from csv\n",
    "df1 = pd.read_csv(\"la_crimes_2010-19.csv\")"
   ]
  },
  {
   "cell_type": "code",
   "execution_count": 10,
   "metadata": {},
   "outputs": [],
   "source": [
    "#get 2020-25 data from csv\n",
    "df2 = pd.read_csv(\"la_crimes_2020-25.csv\")"
   ]
  },
  {
   "cell_type": "code",
   "execution_count": null,
   "metadata": {},
   "outputs": [],
   "source": [
    "#clean variable names\n",
    "df1 = (\n",
    "    df1.clean_names()\n",
    "    .rename(columns={\"date_occ\":\"date\", \"time_occ\":\"time\", \"area_name\":\"area\", \"crm_cd\":\"crime_code\", \"crm_cd_desc\":\"crime_type\", \"premis_cd\":\"premises_code\", \"premis_desc\":\"premises_type\", \"weapon_used_cd\":\"weapon_code\", \"weapon_desc\":\"weapon_type\"})\n",
    "    )\n",
    "\n",
    "df2 = (\n",
    "    df2.clean_names()\n",
    "    .rename(columns={\"date_occ\":\"date\", \"time_occ\":\"time\", \"area\":\"area_\", \"area_name\":\"area\", \"crm_cd\":\"crime_code\", \"crm_cd_desc\":\"crime_type\", \"premis_cd\":\"premises_code\", \"premis_desc\":\"premises_type\", \"weapon_used_cd\":\"weapon_code\", \"weapon_desc\":\"weapon_type\"})\n",
    "    )"
   ]
  },
  {
   "cell_type": "code",
   "execution_count": null,
   "metadata": {},
   "outputs": [],
   "source": [
    "#join dataframes\n",
    "df = pd.concat([df1, df2], ignore_index=True)"
   ]
  }
 ],
 "metadata": {
  "kernelspec": {
   "display_name": "base",
   "language": "python",
   "name": "python3"
  },
  "language_info": {
   "codemirror_mode": {
    "name": "ipython",
    "version": 3
   },
   "file_extension": ".py",
   "mimetype": "text/x-python",
   "name": "python",
   "nbconvert_exporter": "python",
   "pygments_lexer": "ipython3",
   "version": "3.10.18"
  }
 },
 "nbformat": 4,
 "nbformat_minor": 2
}
